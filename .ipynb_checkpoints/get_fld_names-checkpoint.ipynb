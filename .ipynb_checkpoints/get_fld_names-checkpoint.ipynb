{
 "cells": [
  {
   "cell_type": "markdown",
   "metadata": {},
   "source": [
    "# This notebook will be for obtaining the interest feilds for school children (and scientists if there is time"
   ]
  },
  {
   "cell_type": "code",
   "execution_count": 100,
   "metadata": {},
   "outputs": [],
   "source": [
    "# --- importing libs.\n",
    "from astropy.table import Table\n",
    "from astropy.table import  join\n",
    "import numpy as np\n",
    "import pylab as plt\n",
    "import pandas\n",
    "%matplotlib inline\n"
   ]
  },
  {
   "cell_type": "code",
   "execution_count": 101,
   "metadata": {},
   "outputs": [],
   "source": [
    "d = Table.read('/Users/khawkins/Desktop/AHW/LtaP/students.csv',format='csv') #load in data for students\n",
    "d.colnames #print columns\n",
    "enthu = np.array(d['On a scale of 1 to 5 stars, how excited are you about becoming a scientist?']) #grab student enthusasium\n"
   ]
  },
  {
   "cell_type": "code",
   "execution_count": 102,
   "metadata": {},
   "outputs": [],
   "source": [
    "# --- check the feilds that are unique amoung the students \n",
    "fld_student = np.array(np.unique(d['If I could be any type of scientist when I grow up, I would want to study:']))\n",
    "fld_student_all = d['If I could be any type of scientist when I grow up, I would want to study:']"
   ]
  },
  {
   "cell_type": "code",
   "execution_count": 105,
   "metadata": {},
   "outputs": [
    {
     "name": "stdout",
     "output_type": "stream",
     "text": [
      "Index(['Entry Id', 'Email', 'Name', 'Last',\n",
      "       'Mailing Address (starting September 2017)', 'Address Line 2', 'City',\n",
      "       'State  Province / Region', 'Postal / Zip Code', 'Country',\n",
      "       'Occupation', 'Field',\n",
      "       'We will match you with a pen pal who has expressed an interest in at least one of the following subjects. Which topic is most relevant to your work?',\n",
      "       'If we can't find a match with your first choice, which topic is also relevant to your work?',\n",
      "       'Did you have a pen pal in our program in the 2016-2017 school year?',\n",
      "       'Would you like to write to the same pen pal again this year, if possible?',\n",
      "       'Do you have any major commitments coming up this school year that might get in the way of being a good pen pal? (e.g. dissertation writing, extended field work)',\n",
      "       'How do you plan to work around any obstacles to sending your letters on time?',\n",
      "       'By submitting this form, you are making a commitment to being a pen pal for the entire school year (September through June). If we are not able to match you right away, we will keep you on our waiting list and email you as soon as there is a match available.\\n\\nWould you like to be matched with a pen pal?',\n",
      "       'Date Created', 'Created By', 'Last Updated', 'Updated By',\n",
      "       'IP Address', 'Last Page Accessed', 'Completion Status'],\n",
      "      dtype='object')\n"
     ]
    }
   ],
   "source": [
    "#load data for scientists_1.csv and figure out the columns\n",
    "scidat = pandas.read_csv('./scientists_1.csv')\n",
    "print(scidat.columns)\n"
   ]
  },
  {
   "cell_type": "code",
   "execution_count": 106,
   "metadata": {},
   "outputs": [
    {
     "name": "stdout",
     "output_type": "stream",
     "text": [
      "['Animals/medicine' 'Bacteria' 'Bacteria, generally microbiology'\n",
      " 'Bacteria/viruses' 'Drinking water' 'Endocrinology/embryonic development '\n",
      " 'Evolution, fossils, paleontology' 'General biology and/or heredity'\n",
      " 'Genetics' 'Health' 'Human behavior' 'Human behavior or evolution'\n",
      " 'Infectious disease' 'Infectious diseases' 'Insects'\n",
      " 'Marine mammals and conservation' 'Medicine+computers'\n",
      " 'Microbes (bacteria, fungi, etc)' 'Microbiology' 'Microbiology, bacteria!'\n",
      " 'Psychology' 'Public Health' 'Social sciences, special education, autism'\n",
      " 'Structural biology' 'Viruses/ bacteria' 'Water' 'Wildlife' 'animals'\n",
      " 'archaeology' 'atoms and subatomic particles' 'bacteria'\n",
      " 'beaches and sand' 'bee microbiome'\n",
      " 'biomaterials for drug delivery, micro/nanofabrication, medical devices'\n",
      " 'cancer immunology' 'cells' 'chemicals'\n",
      " 'clean transportation technologies' 'computers' 'energy' 'engineering'\n",
      " 'food' 'forensic science' 'genes' 'genetics'\n",
      " 'genetics (especially how embryos use genes to grow)' 'germs' 'health'\n",
      " 'health / disease' 'human culture and society' 'infectious disease'\n",
      " 'insects' 'machines' 'math' 'matter' 'medicine' 'microbiomes'\n",
      " 'music and sound' 'oceans' 'planets, Mars, Venus' 'plants'\n",
      " 'proteins, cell division' 'psychology'\n",
      " 'psychology/development/infants/cognitive science/the brain' 'rocks'\n",
      " 'science writing' 'space' 'spinal cord' 'the brain' 'the earth'\n",
      " 'the environment' 'the environment or oceans or rivers' 'the human body'\n",
      " 'the planet' 'virus' 'viruses' 'viruses or bacteria' 'weather']\n",
      "0      2017-07-12 09:47:45\n",
      "1      2017-07-13 08:55:34\n",
      "2      2017-07-13 08:55:37\n",
      "3      2017-07-13 08:57:28\n",
      "4      2017-07-13 08:57:32\n",
      "5      2017-07-13 08:59:00\n",
      "6      2017-07-13 08:59:19\n",
      "7      2017-07-13 09:00:17\n",
      "8      2017-07-13 09:01:33\n",
      "9      2017-07-13 09:01:58\n",
      "10     2017-07-13 09:04:13\n",
      "11     2017-07-13 09:04:57\n",
      "12     2017-07-13 09:05:17\n",
      "13     2017-07-13 09:05:33\n",
      "14     2017-07-13 09:05:47\n",
      "15     2017-07-13 09:05:51\n",
      "16     2017-07-13 09:06:21\n",
      "17     2017-07-13 09:06:25\n",
      "18     2017-07-13 09:07:45\n",
      "19     2017-07-13 09:07:57\n",
      "20     2017-07-13 09:08:52\n",
      "21     2017-07-13 09:09:27\n",
      "22     2017-07-13 09:09:59\n",
      "23     2017-07-13 09:10:03\n",
      "24     2017-07-13 09:10:52\n",
      "25     2017-07-13 09:11:13\n",
      "26     2017-07-13 09:13:25\n",
      "27     2017-07-13 09:14:22\n",
      "28     2017-07-13 09:14:25\n",
      "29     2017-07-13 09:14:34\n",
      "              ...         \n",
      "710    2017-08-02 10:25:29\n",
      "711    2017-08-02 14:31:51\n",
      "712    2017-08-02 19:28:45\n",
      "713    2017-08-02 19:33:19\n",
      "714    2017-08-03 09:27:20\n",
      "715    2017-08-03 09:58:31\n",
      "716    2017-08-03 15:41:36\n",
      "717    2017-08-03 20:47:13\n",
      "718    2017-08-04 13:33:09\n",
      "719    2017-08-04 14:44:48\n",
      "720    2017-08-07 05:17:18\n",
      "721    2017-08-07 09:50:53\n",
      "722    2017-08-07 12:44:34\n",
      "723    2017-08-07 19:30:16\n",
      "724    2017-08-07 21:02:13\n",
      "725    2017-08-08 10:48:28\n",
      "726    2017-08-10 14:16:13\n",
      "727    2017-08-15 13:01:09\n",
      "728    2017-08-15 13:31:15\n",
      "729    2017-08-16 12:27:31\n",
      "730    2017-08-17 15:00:24\n",
      "731    2017-08-19 13:30:07\n",
      "732    2017-08-21 15:08:54\n",
      "733    2017-08-22 11:29:39\n",
      "734    2017-08-22 12:09:10\n",
      "735    2017-08-22 16:11:48\n",
      "736    2017-08-22 17:02:26\n",
      "737    2017-08-23 16:32:01\n",
      "738    2017-08-24 19:12:51\n",
      "739    2017-08-24 20:30:42\n",
      "Name: Date Created, Length: 740, dtype: object\n"
     ]
    }
   ],
   "source": [
    "# -- grabs the interests of the scientists\n",
    "fld_sci = scidat['We will match you with a pen pal who has expressed an interest in at least one of the following subjects. Which topic is most relevant to your work?']\n",
    "print(np.array(np.unique(fld_sci)))\n",
    "print(scidat['Date Created'])\n",
    "    "
   ]
  },
  {
   "cell_type": "code",
   "execution_count": 107,
   "metadata": {
    "scrolled": false
   },
   "outputs": [],
   "source": [
    "#--- build the set of preselected interests\n",
    "preselect_list = ['chemicals','weather','rocks','plants','engineering','energy','animals','machines',\\\n",
    "                  'the human body','medicine','oceans','the environment','space','the brain','matter',\\\n",
    "                  'computers','cells']\n"
   ]
  },
  {
   "cell_type": "code",
   "execution_count": null,
   "metadata": {},
   "outputs": [],
   "source": []
  },
  {
   "cell_type": "code",
   "execution_count": 109,
   "metadata": {},
   "outputs": [
    {
     "name": "stdout",
     "output_type": "stream",
     "text": [
      "Art science | the brain\n",
      "\n",
      "Docter | medicine\n",
      "\n",
      "Doctor | medicine\n",
      "\n",
      "Forensic Scientist | the human body\n",
      "\n",
      "Matter,Machines,Space,Computers, and cells. | matter\n",
      "\n",
      "Medical Examiner | medical\n",
      "\n",
      "Technolygy | computers\n",
      "\n",
      "Video games | computers\n",
      "\n",
      "aliens | space\n",
      "\n",
      "aliens and other monsters | space\n",
      "\n",
      "anaimals | animals\n",
      "\n",
      "animals | animals\n",
      "\n",
      "ballet | the brain\n",
      "\n",
      "cells | cells\n",
      "\n",
      "chemestry | chemicals\n",
      "\n",
      "chemicals | chemicals\n",
      "\n",
      "compers | computers\n",
      "\n",
      "computers | computers\n",
      "\n",
      "dinosaurs | animals\n",
      "\n",
      "disease | medicine\n",
      "\n",
      "disecting | the human body\n",
      "\n",
      "egner | energy\n",
      "\n",
      "electricity | energy\n",
      "\n",
      "energy | energy\n",
      "\n",
      "engineering | engineering\n",
      "\n",
      "forensic Scientist | the human body\n",
      "\n",
      "forensics | the human body\n",
      "\n",
      "i love all science genetics | medicine\n",
      "\n",
      "lego's | engineering\n",
      "\n",
      "machines | machines\n",
      "\n",
      "matter | matter\n",
      "\n",
      "medicine | medicine\n",
      "\n",
      "nail artist | the human body\n",
      "\n",
      "navy jets | engineering\n",
      "\n",
      "no | space\n",
      "\n",
      "oceans | oceans\n",
      "\n",
      "plants | plants\n",
      "\n",
      "robotics | machines\n",
      "\n",
      "rocks | rocks\n",
      "\n",
      "something else: detective | medicine\n",
      "\n",
      "space | space\n",
      "\n",
      "speed | matter\n",
      "\n",
      "the brain | the brain\n",
      "\n",
      "the environment | the environment\n",
      "\n",
      "the human body | the human body\n",
      "\n",
      "the solar system | space\n",
      "\n",
      "toxic | chemicals\n",
      "\n",
      "video game | computers\n",
      "\n",
      "video games | computers\n",
      "\n",
      "volcanoes | rocks\n",
      "\n",
      "water | oceans\n",
      "\n",
      "weather | the environment\n",
      "\n",
      "wildlife | animals\n",
      "\n",
      "writer | space\n",
      "\n"
     ]
    }
   ],
   "source": [
    "#----The by-hand work by Sara, Kevin, and Keith to match an unqiue student feilds to the preselected ones. (Mainly done to force the 'other' option into the \\\n",
    "#the most approp. preselected interest)\n",
    "student_by_hand = np.array(['the brain', 'medicine','medicine','the human body','matter','medical',   'computers','computers','space','space','animals','animals','the brain','cells','chemicals',\\\n",
    "                  'chemicals','computers','computers','animals','medicine','the human body','energy','energy','energy',\\\n",
    "                  'engineering','the human body','the human body','medicine','engineering','machines','matter','medicine','the human body',\n",
    "                  'engineering','space','oceans','plants','machines','rocks','medicine', 'space','matter','the brain','the environment',\\\n",
    "                  'the human body','space','chemicals','computers','computers','rocks','oceans','the environment','animals','space'])\n",
    "\n",
    "\n",
    "for i in np.arange(len(fld_student)):\n",
    "    print('%s | %s\\n'%(fld_student[i],student_by_hand[i]))"
   ]
  },
  {
   "cell_type": "code",
   "execution_count": null,
   "metadata": {},
   "outputs": [],
   "source": []
  },
  {
   "cell_type": "code",
   "execution_count": 110,
   "metadata": {},
   "outputs": [
    {
     "name": "stdout",
     "output_type": "stream",
     "text": [
      "491 40\n",
      "740\n"
     ]
    }
   ],
   "source": [
    "#--- How many students have preselected options vs have \n",
    "preselect_list = np.array(preselect_list)\n",
    "bad = 0\n",
    "good =1\n",
    "for i in np.arange(len(fld_student_all)):\n",
    "    ind = np.where(preselect_list == fld_student_all[i])[0]\n",
    "    if len(ind) == 0:\n",
    "        #print('The child choose a non-preselected list option')\n",
    "        non_preselected += 1\n",
    "    else:\n",
    "        #print('OK')\n",
    "        good+=1\n",
    "print(good,non_preselected)\n",
    "fld_sci = np.array(fld_sci)\n",
    "print(len(fld_sci))\n",
    "    \n",
    "    "
   ]
  },
  {
   "cell_type": "code",
   "execution_count": 111,
   "metadata": {},
   "outputs": [
    {
     "name": "stdout",
     "output_type": "stream",
     "text": [
      "[ 40  40  40  20   0  40  20  18  18 100 107  18  40  20  31  20  18  20\n",
      "  40 100  40  18  18 100 100  43  20  42  40 100  43  40   0   0  43  20\n",
      "   0  18  43  10  43  20  60  18  40  60   3 107  52  31   3 100 107 107\n",
      "  40  43  60  40   3  60 100   0  18  18  25  13 100  60   0  18  13  13\n",
      "   0  18  18 100 100 100  43  18   3  43   3  10  31  20 100  40 100  18\n",
      "  20 100 100  18  40   3 100  52  18  40  40 100  40 100  43   0  13   0\n",
      " 100  43 100  43  43  43  25  18 100  18  43  31  18  18  13  18 100  40\n",
      "  43 100  43  60  40   0  43 100 100   0   0  18  40  40  31  61   0   0\n",
      "  60  61  18  31  13   0 100  43  31 100   5  18  25  40  43  40 100  43\n",
      "  60 107 100  18  31  40 107 100  60  60   3  31 100  43  60  20   0  60\n",
      "   0 100  31  43  18  10 100  18   0  18  60  61 100  61  60  60  40  60\n",
      "  31  18  61 107   0  43 100   0 100 100  40 100 100 100  61  25 100 100\n",
      " 100  40   0  31   3  61  18  25 100  43  31 100   0  18   3  60  25  10\n",
      " 100 100  31 100  31  25  40  42  20  18   0   0  20 100 100 100  43  40\n",
      " 100   5 100 100  25  43  61   3  25  31 100 100  25 100 100 100  31  43\n",
      " 100  40  18   3   3  60  18   0  18  40 100  13 100 100  18  20 107   0\n",
      "   3   0  18  42  10   0  40  40  18  40 100  61  60 100  60  18 100 100\n",
      "   5  40  43 100  61  40 100  10  18 100  18  60 100  25  25  42  25  18\n",
      "  42 100  18 100  10  31   0  42 100 100 100  31  43  18   0  20   0 100\n",
      " 100  40  20 100  18  60  25 100  43   3  40  18  31  20   0 100  18  31\n",
      "  31   0  60  25  43  18 100 100 100  13 100  60 100   0  31 100  31 100\n",
      "  31  43 100  20  42  18  43  18 100  20 100 100  31  20  25  18  18  43\n",
      "  20  18  13  60  43  60 100  43 100  25 100  60  43  60  20  18 100  31\n",
      "  31   3 100  18  31 100  43   0 100  43 100  31   0  18   0  60  18  40\n",
      " 100  18  18  20  18  18  20  20 100   3 100 100  31  18  20  40  20  31\n",
      "   0 100  20  40  18 100  40  43  60  18  18   3  31  43  60  31  40  10\n",
      "  31  60  18   3  40  40  40  40  40   0   3 100  43  18 100 100  40  43\n",
      "  43  60  10 100 100  20  40  18  40   3 100  18  40 100 100  18  40  40\n",
      "   3 100 100  40  60  18  18 100   3 100 100   3  43  40   0 100  18  40\n",
      "  40   3   3  61 100 100 100 100]\n",
      "0\n",
      "40\n"
     ]
    },
    {
     "data": {
      "text/plain": [
       "(array([  28.,    0.,   18.,    0.,  103.,    0.,   17.,    0.,   35.,\n",
       "           0.,   58.,   52.,    0.,    0.,    2.,    0.,   45.,    0.,\n",
       "           0.,    0.,    0.,    0.,    0.,    0.,    0.,    0.,    0.,\n",
       "         124.,    0.,    8.]),\n",
       " array([   3.        ,    6.46666667,    9.93333333,   13.4       ,\n",
       "          16.86666667,   20.33333333,   23.8       ,   27.26666667,\n",
       "          30.73333333,   34.2       ,   37.66666667,   41.13333333,\n",
       "          44.6       ,   48.06666667,   51.53333333,   55.        ,\n",
       "          58.46666667,   61.93333333,   65.4       ,   68.86666667,\n",
       "          72.33333333,   75.8       ,   79.26666667,   82.73333333,\n",
       "          86.2       ,   89.66666667,   93.13333333,   96.6       ,\n",
       "         100.06666667,  103.53333333,  107.        ]),\n",
       " <a list of 1 Patch objects>)"
      ]
     },
     "execution_count": 111,
     "metadata": {},
     "output_type": "execute_result"
    },
    {
     "data": {
      "image/png": "[encoded data removed]",
      "text/plain": [
       "<matplotlib.figure.Figure at 0x10f85ca58>"
      ]
     },
     "metadata": {},
     "output_type": "display_data"
    }
   ],
   "source": [
    "allsci_match = []\n",
    "for i in np.arange(len(fld_student_all)):\n",
    "    ind = np.where(fld_sci == fld_student_all[i])[0]\n",
    "    if len(ind) == 0:\n",
    "        allsci_match.append(0)\n",
    "    else:\n",
    "        allsci_match.append(len(ind))\n",
    "allsci_match = np.array(allsci_match)\n",
    "print(allsci_match)\n",
    "print(min(allsci_match))\n",
    "nomatch = np.where(allsci_match == 0)[0]\n",
    "print(len(nomatch))\n",
    "plt.hist(allsci_match[allsci_match != 0],bins=30,histtype='step',lw=3)"
   ]
  },
  {
   "cell_type": "code",
   "execution_count": null,
   "metadata": {
    "collapsed": true
   },
   "outputs": [],
   "source": []
  },
  {
   "cell_type": "code",
   "execution_count": null,
   "metadata": {
    "collapsed": true
   },
   "outputs": [],
   "source": []
  }
 ],
 "metadata": {
  "kernelspec": {
   "display_name": "Python 3",
   "language": "python",
   "name": "python3"
  },
  "language_info": {
   "codemirror_mode": {
    "name": "ipython",
    "version": 3
   },
   "file_extension": ".py",
   "mimetype": "text/x-python",
   "name": "python",
   "nbconvert_exporter": "python",
   "pygments_lexer": "ipython3",
   "version": "3.6.1"
  }
 },
 "nbformat": 4,
 "nbformat_minor": 2
}
